{
 "cells": [
  {
   "cell_type": "code",
   "execution_count": 10,
   "metadata": {},
   "outputs": [],
   "source": [
    "using FileIO\n",
    "using CSV\n",
    "using XLSX\n",
    "using DataFrames\n",
    "using KnetMetrics\n",
    "using RCall"
   ]
  },
  {
   "cell_type": "code",
   "execution_count": 11,
   "metadata": {},
   "outputs": [
    {
     "name": "stdout",
     "output_type": "stream",
     "text": [
      "header = [Symbol(\"Article #\"), Symbol(\"1\"), Symbol(\"2\"), Symbol(\"3\"), Symbol(\"4\"), Symbol(\"5\"), Symbol(\"6\"), Symbol(\"7\"), Symbol(\"8\"), Symbol(\"9\"), Symbol(\"10\"), Symbol(\"A.11.A\"), Symbol(\"A.12\"), Symbol(\"A.13\"), Symbol(\"A.14\"), Symbol(\"A.14-Q\"), Symbol(\"A.15\"), Symbol(\"A.16.A\"), Symbol(\"A.16.B\"), Symbol(\"A.16.C\"), Symbol(\"A.16.D\"), Symbol(\"A.16.E\"), Symbol(\"A.16.F\"), Symbol(\"A.16.G\"), Symbol(\"A.16.H\"), Symbol(\"A.16.I\"), Symbol(\"A.16-Q\"), Symbol(\"A.17\"), Symbol(\"A.17-Q\"), Symbol(\"A.18\"), Symbol(\"A.18-Q\"), Symbol(\"A.19\"), Symbol(\"A.19-Q\"), Symbol(\"A.20\"), Symbol(\"A.21\"), Symbol(\"A.21-Q\"), Symbol(\"A.22\"), Symbol(\"A.23.A\"), Symbol(\"A.23.B\"), Symbol(\"A.23.C\"), Symbol(\"A.23.D\"), Symbol(\"A.23.E\"), Symbol(\"A.23.F\"), Symbol(\"A.23.G\"), Symbol(\"A.24\"), Symbol(\"A.24-Q\"), Symbol(\"A.25\"), Symbol(\"A.26.A\"), Symbol(\"A.26.B\"), Symbol(\"A.26.C\"), Symbol(\"A.26.D\"), Symbol(\"A.26.E\"), Symbol(\"A.26.F\"), Symbol(\"A.26.G\"), Symbol(\"A.27\"), Symbol(\"A.28.A\"), Symbol(\"A.28.B\"), Symbol(\"A.28.C\"), Symbol(\"A.28.D\"), Symbol(\"A.28.E\"), Symbol(\"A.29.A\"), Symbol(\"A.29.B\"), Symbol(\"A.29.C\"), Symbol(\"A.30.A\"), Symbol(\"A.30.B\"), Symbol(\"A.30.C\"), Symbol(\"A.30-Q-A\"), Symbol(\"A.30-Q-B\"), Symbol(\"A.30-Q-C\"), Symbol(\"B.11.A\"), Symbol(\"B.12\"), Symbol(\"B.13\"), Symbol(\"B.14\"), Symbol(\"B.14-Q\"), Symbol(\"B.15\"), Symbol(\"B.16.A\"), Symbol(\"B.16.B\"), Symbol(\"B.16.C\"), Symbol(\"B.16.D\"), Symbol(\"B.16.E\"), Symbol(\"B.16.F\"), Symbol(\"B.16.G\"), Symbol(\"B.16.H\"), Symbol(\"B.16.I\"), Symbol(\"B.16-Q\"), Symbol(\"B.17\"), Symbol(\"B.17-Q\"), Symbol(\"B.18\"), Symbol(\"B.18-Q\"), Symbol(\"B.19\"), Symbol(\"B.19-Q\"), Symbol(\"B.20\"), Symbol(\"B.21\"), Symbol(\"B.21-Q\"), Symbol(\"B.22\"), Symbol(\"B.23.A\"), Symbol(\"B.23.B\"), Symbol(\"B.23.C\"), Symbol(\"B.23.D\"), Symbol(\"B.23.E\"), Symbol(\"B.23.F\"), Symbol(\"B.23.G\"), Symbol(\"B.24\"), Symbol(\"B.24-Q\"), Symbol(\"B.25\"), Symbol(\"B.26.A\"), Symbol(\"B.26.B\"), Symbol(\"B.26.C\"), Symbol(\"B.26.D\"), Symbol(\"B.26.E\"), Symbol(\"B.26.F\"), Symbol(\"B.26.G\"), Symbol(\"B.27\"), Symbol(\"B.28.A\"), Symbol(\"B.28.B\"), Symbol(\"B.28.C\"), Symbol(\"B.28.D\"), Symbol(\"B.28.E\"), Symbol(\"B.29.A\"), Symbol(\"B.29.B\"), Symbol(\"B.29.C\"), Symbol(\"B.30.A\"), Symbol(\"B.30.B\"), Symbol(\"B.30.C\"), Symbol(\"B.30-Q-A\"), Symbol(\"B.30-Q-B\"), Symbol(\"B.30-Q-C\"), Symbol(\"ICA.11.A\"), Symbol(\"ICA.12\"), Symbol(\"ICA.13\"), Symbol(\"ICA.14\"), Symbol(\"ICA.14-Q\"), Symbol(\"ICA.15\"), Symbol(\"ICA.16.A\"), Symbol(\"ICA.16.B\"), Symbol(\"ICA.16.C\"), Symbol(\"ICA.16.D\"), Symbol(\"ICA.16.E\"), Symbol(\"ICA.16.F\"), Symbol(\"ICA.16.G\"), Symbol(\"ICA.16.H\"), Symbol(\"ICA.16.I\"), Symbol(\"ICA.16-Q\"), Symbol(\"ICA.17\"), Symbol(\"ICA.17-Q\"), Symbol(\"ICA.18\"), Symbol(\"ICA.18-Q\"), Symbol(\"ICA.19\"), Symbol(\"ICA.19-Q\"), Symbol(\"ICA.20\"), Symbol(\"ICA.21\"), Symbol(\"ICA.21-Q\"), Symbol(\"ICA.22\"), Symbol(\"ICA.23.A\"), Symbol(\"ICA.23.B\"), Symbol(\"ICA.23.C\"), Symbol(\"ICA.23.D\"), Symbol(\"ICA.23.E\"), Symbol(\"ICA.23.F\"), Symbol(\"ICA.23.G\"), Symbol(\"ICA.24\"), Symbol(\"ICA.24-Q\"), Symbol(\"ICA.25\"), Symbol(\"ICA.26.A\"), Symbol(\"ICA.26.B\"), Symbol(\"ICA.26.C\"), Symbol(\"ICA.26.D\"), Symbol(\"ICA.26.E\"), Symbol(\"ICA.26.F\"), Symbol(\"ICA.26.G\"), Symbol(\"ICA.27\"), Symbol(\"ICA.28.A\"), Symbol(\"ICA.28.B\"), Symbol(\"ICA.28.C\"), Symbol(\"ICA.28.D\"), Symbol(\"ICA.28.E\"), Symbol(\"ICA.29.A\"), Symbol(\"ICA.29.B\"), Symbol(\"ICA.29.C\"), Symbol(\"ICA.30.A\"), Symbol(\"ICA.30.B\"), Symbol(\"ICA.30.C\"), Symbol(\"ICA.30-Q-A\"), Symbol(\"ICA.30-Q-B\"), Symbol(\"ICA.30-Q-C\")]\n"
     ]
    },
    {
     "data": {
      "text/plain": [
       "185-element Array{Symbol,1}:\n",
       " Symbol(\"Article #\")\n",
       " Symbol(\"1\")\n",
       " Symbol(\"2\")\n",
       " Symbol(\"3\")\n",
       " Symbol(\"4\")\n",
       " Symbol(\"5\")\n",
       " Symbol(\"6\")\n",
       " Symbol(\"7\")\n",
       " Symbol(\"8\")\n",
       " Symbol(\"9\")\n",
       " ⋮\n",
       " Symbol(\"ICA.29.A\")\n",
       " Symbol(\"ICA.29.B\")\n",
       " Symbol(\"ICA.29.C\")\n",
       " Symbol(\"ICA.30.A\")\n",
       " Symbol(\"ICA.30.B\")\n",
       " Symbol(\"ICA.30.C\")\n",
       " Symbol(\"ICA.30-Q-A\")\n",
       " Symbol(\"ICA.30-Q-B\")\n",
       " Symbol(\"ICA.30-Q-C\")"
      ]
     },
     "metadata": {},
     "output_type": "display_data"
    }
   ],
   "source": [
    "#Import data as excel:\n",
    "#dirpath = \"/mnt/s/OneDrive - Universiteit Leiden/QSTDN_Quantum&Society/data/national_newspapers_09-21/\" #pilot_coding_data/\"\n",
    "dirpath = \"/mnt/s/OneDrive - Universiteit Leiden/\"\n",
    "filename = \"Coding_Sheet_InterCoder_medium.xlsx\" #\"Pilot_Coding_Sheet_InterCoder.xlsx\"\n",
    "sheetname = \"IC_Parallel\" # \"Pilot_IC_Parallel\"\n",
    "dataloc_on_sheet = \"A7:GC85\" #\"A7:GC43\" #Must include header row!!\n",
    "\n",
    "#df = DataFrame(XLSX.readtable(dirpath*filename, sheetname))\n",
    "xlf_mat = XLSX.readdata(dirpath*filename, sheetname*\"!\"*dataloc_on_sheet)\n",
    "\n",
    "colnames = xlf_mat[1,:]\n",
    "data = xlf_mat[2:end,:]\n",
    "header = Symbol.(colnames[:])\n",
    "\n",
    "data[.|(data .== nothing, string.(data) .== \"-2\", data .== \"~\")] .= missing\n",
    "\n",
    "#data[data .== \"~\"] .= missing\n",
    "#@show data\n",
    "\n",
    "df = DataFrame(data, header)\n",
    "@show header"
   ]
  },
  {
   "cell_type": "code",
   "execution_count": 12,
   "metadata": {},
   "outputs": [
    {
     "name": "stderr",
     "output_type": "stream",
     "text": [
      "┌ Warning: RCall.jl: Warning in kripp.alpha(c_var_data, method = c_var_type) :\n",
      "│   NAs introduced by coercion\n",
      "└ @ RCall /home/trothe/.julia/packages/RCall/Wyd74/src/io.jl:172\n",
      "┌ Warning: RCall.jl: Warning in kripp.alpha(c_var_data, method = c_var_type) :\n",
      "│   NAs introduced by coercion\n",
      "└ @ RCall /home/trothe/.julia/packages/RCall/Wyd74/src/io.jl:172\n",
      "┌ Warning: RCall.jl: Warning in kripp.alpha(c_var_data, method = c_var_type) :\n",
      "│   NAs introduced by coercion\n",
      "└ @ RCall /home/trothe/.julia/packages/RCall/Wyd74/src/io.jl:172\n",
      "┌ Warning: RCall.jl: Warning in kripp.alpha(c_var_data, method = c_var_type) :\n",
      "│   NAs introduced by coercion\n",
      "└ @ RCall /home/trothe/.julia/packages/RCall/Wyd74/src/io.jl:172\n"
     ]
    },
    {
     "name": "stderr",
     "output_type": "stream",
     "text": [
      "┌ Warning: RCall.jl: Warning in kripp.alpha(c_var_data, method = c_var_type) :\n",
      "│   NAs introduced by coercion\n",
      "└ @ RCall /home/trothe/.julia/packages/RCall/Wyd74/src/io.jl:172\n",
      "┌ Warning: RCall.jl: Warning in kripp.alpha(c_var_data, method = c_var_type) :\n",
      "│   NAs introduced by coercion\n",
      "└ @ RCall /home/trothe/.julia/packages/RCall/Wyd74/src/io.jl:172\n",
      "┌ Warning: RCall.jl: Warning in kripp.alpha(c_var_data, method = c_var_type) :\n",
      "│   NAs introduced by coercion\n",
      "└ @ RCall /home/trothe/.julia/packages/RCall/Wyd74/src/io.jl:172\n",
      "┌ Warning: RCall.jl: Warning in kripp.alpha(c_var_data, method = c_var_type) :\n",
      "│   NAs introduced by coercion\n",
      "└ @ RCall /home/trothe/.julia/packages/RCall/Wyd74/src/io.jl:172\n",
      "┌ Warning: RCall.jl: Warning in kripp.alpha(c_var_data, method = c_var_type) :\n",
      "│   NAs introduced by coercion\n",
      "└ @ RCall /home/trothe/.julia/packages/RCall/Wyd74/src/io.jl:172\n",
      "┌ Warning: RCall.jl: Warning in kripp.alpha(c_var_data, method = c_var_type) :\n",
      "│   NAs introduced by coercion\n",
      "└ @ RCall /home/trothe/.julia/packages/RCall/Wyd74/src/io.jl:172\n",
      "┌ Warning: RCall.jl: Warning in kripp.alpha(c_var_data, method = c_var_type) :\n",
      "│   NAs introduced by coercion\n",
      "└ @ RCall /home/trothe/.julia/packages/RCall/Wyd74/src/io.jl:172\n",
      "┌ Warning: RCall.jl: Warning in kripp.alpha(c_var_data, method = c_var_type) :\n",
      "│   NAs introduced by coercion\n",
      "└ @ RCall /home/trothe/.julia/packages/RCall/Wyd74/src/io.jl:172\n",
      "┌ Warning: RCall.jl: Warning in sqrt(varkappa) : NaNs produced\n",
      "└ @ RCall /home/trothe/.julia/packages/RCall/Wyd74/src/io.jl:172\n",
      "┌ Warning: RCall.jl: Warning in kripp.alpha(c_var_data, method = c_var_type) :\n",
      "│   NAs introduced by coercion\n",
      "└ @ RCall /home/trothe/.julia/packages/RCall/Wyd74/src/io.jl:172\n",
      "┌ Warning: RCall.jl: Warning in kripp.alpha(c_var_data, method = c_var_type) :\n",
      "│   NAs introduced by coercion\n",
      "└ @ RCall /home/trothe/.julia/packages/RCall/Wyd74/src/io.jl:172\n",
      "┌ Warning: RCall.jl: Warning in kripp.alpha(c_var_data, method = c_var_type) :\n",
      "│   NAs introduced by coercion\n",
      "└ @ RCall /home/trothe/.julia/packages/RCall/Wyd74/src/io.jl:172\n"
     ]
    }
   ],
   "source": [
    "#package1 = \"irr\"\n",
    "#@rput package1\n",
    "#R\"install.packages(package1)\"\n",
    "#package2 = \"psych\"\n",
    "#@rput package2\n",
    "#R\"install.packages(package2)\"\n",
    "\n",
    "R\"library(irr)\"\n",
    "R\"library(psych)\"\n",
    "\n",
    "dinfo1 = nothing\n",
    "dinfo2 = nothing\n",
    "dinfo3 = nothing\n",
    "dinfo4 = []\n",
    "\n",
    "krippalpha_outputs = []\n",
    "cohenkappa_outputs = []\n",
    "percentagree_outputs = []\n",
    "count_outputs = []\n",
    "agreementCount_outputs = []\n",
    "\n",
    "A_cols = filter(cn -> startswith(String(cn), \"A.\"), header)\n",
    "B_cols = filter(cn -> startswith(String(cn), \"B.\"), header)\n",
    "var_types = fill(\"nominal\", 58) #Column 11 to 40 only, including subcolumns = 58\n",
    "\n",
    "for (col_a, col_b, c_var_type) in zip(A_cols, B_cols, var_types)\n",
    "    c_var_data_df = df[:, [col_a, col_b]]\n",
    "    \n",
    "    c_var_data = Matrix(c_var_data_df)\n",
    "    #kripp_alpha(c_var_data, method = c_var_type)\n",
    "    @rput c_var_data\n",
    "    @rput c_var_type\n",
    "    #dinfo1 = c_var_data\n",
    "    R\"c_var_data <- t(matrix(unlist(c_var_data), byrow=FALSE, ncol=2))\"\n",
    "    #R\"dinfo2 <- c_var_data\"\n",
    "    #@rget dinfo2\n",
    "\n",
    "    R\"krippalpha_output <- kripp.alpha(c_var_data, method = c_var_type)\"\n",
    "    @rget krippalpha_output\n",
    "    push!(krippalpha_outputs, krippalpha_output)\n",
    "    \n",
    "    c_var_data = c_var_data_df[completecases(c_var_data_df), :] #Remove missin balues\n",
    "\n",
    "    percent_agree = 100 * count(c_var_data[:, 1] .== c_var_data[:, 2]) / size(c_var_data)[1]\n",
    "    push!(count_outputs,  size(c_var_data)[1])\n",
    "    push!(agreementCount_outputs, count(c_var_data[:, 1] .== c_var_data[:, 2]))\n",
    "    push!(percentagree_outputs, percent_agree)\n",
    "        \n",
    "    if prod(size(c_var_data)) == 0 #If all cases missing\n",
    "        cohenkappa_output = Dict(:value=>missing)\n",
    "        push!(cohenkappa_outputs, cohenkappa_output)\n",
    "    else\n",
    "        #push!(dinfo4, size(c_var_data))\n",
    "        @rput c_var_data\n",
    "        R\"c_var_data <- t(matrix(unlist(c_var_data), byrow=FALSE, ncol=2))\"\n",
    "        weight_mode = \"unweighted\"\n",
    "        @rput weight_mode\n",
    "\n",
    "        R\"cohenkappa_output <- kappa2(t(c_var_data), weight = weight_mode, sort.levels = FALSE)\"\n",
    "        #R\"cohenkappa_output <- cohen.kappa(as.data.frame(t(c_var_data)))\"\n",
    "        @rget cohenkappa_output\n",
    "        push!(cohenkappa_outputs, cohenkappa_output)\n",
    "        \n",
    "    end\n",
    "    #View confusion matrix\n",
    "    #c = confusion_matrix(c_var_data[:, 1],c_var_data[:, 2], labels=[0,1])\n",
    "    \n",
    "\n",
    "end"
   ]
  },
  {
   "cell_type": "code",
   "execution_count": 13,
   "metadata": {},
   "outputs": [
    {
     "name": "stdout",
     "output_type": "stream",
     "text": [
      "cohenkappa_outputs = Any[OrderedCollections.OrderedDict{Symbol,Any}(:method => \"Cohen's Kappa for 2 Raters (Weights: unweighted)\",:subjects => 78,:raters => 2,:irr_name => \"Kappa\",:value => 0.6172520661157025,:stat_name => \"z\",:statistic => 7.594842718636398,:p_value => 3.086420008457935e-14), OrderedCollections.OrderedDict{Symbol,Any}(:method => \"Cohen's Kappa for 2 Raters (Weights: unweighted)\",:subjects => 78,:raters => 2,:irr_name => \"Kappa\",:value => 0.7817164179104477,:stat_name => \"z\",:statistic => 10.866314095352433,:p_value => 0.0), OrderedCollections.OrderedDict{Symbol,Any}(:method => \"Cohen's Kappa for 2 Raters (Weights: unweighted)\",:subjects => 78,:raters => 2,:irr_name => \"Kappa\",:value => 0.6608695652173929,:stat_name => \"z\",:statistic => 6.204313539264316,:p_value => 5.493616672680446e-10), OrderedCollections.OrderedDict{Symbol,Any}(:method => \"Cohen's Kappa for 2 Raters (Weights: unweighted)\",:subjects => 78,:raters => 2,:irr_name => \"Kappa\",:value => 0.9486166007905138,:stat_name => \"z\",:statistic => 8.389036884507309,:p_value => 0.0), OrderedCollections.OrderedDict{Symbol,Any}(:method => \"Cohen's Kappa for 2 Raters (Weights: unweighted)\",:subjects => 37,:raters => 2,:irr_name => \"Kappa\",:value => 0.7194312796208531,:stat_name => \"z\",:statistic => 9.287395979431762,:p_value => 0.0), OrderedCollections.OrderedDict{Symbol,Any}(:method => \"Cohen's Kappa for 2 Raters (Weights: unweighted)\",:subjects => 78,:raters => 2,:irr_name => \"Kappa\",:value => 0.8205128205128205,:stat_name => \"z\",:statistic => 7.306871719932601,:p_value => 2.7333690866271354e-13), OrderedCollections.OrderedDict{Symbol,Any}(:method => \"Cohen's Kappa for 2 Raters (Weights: unweighted)\",:subjects => 38,:raters => 2,:irr_name => \"Kappa\",:value => NaN,:stat_name => \"z\",:statistic => NaN,:p_value => NaN), OrderedCollections.OrderedDict{Symbol,Any}(:method => \"Cohen's Kappa for 2 Raters (Weights: unweighted)\",:subjects => 38,:raters => 2,:irr_name => \"Kappa\",:value => 1.0,:stat_name => \"z\",:statistic => 6.164414002968954,:p_value => 7.074463237444206e-10), OrderedCollections.OrderedDict{Symbol,Any}(:method => \"Cohen's Kappa for 2 Raters (Weights: unweighted)\",:subjects => 38,:raters => 2,:irr_name => \"Kappa\",:value => 1.0,:stat_name => \"z\",:statistic => 6.164414002968954,:p_value => 7.074463237444206e-10), OrderedCollections.OrderedDict{Symbol,Any}(:method => \"Cohen's Kappa for 2 Raters (Weights: unweighted)\",:subjects => 38,:raters => 2,:irr_name => \"Kappa\",:value => 0.6545454545454547,:stat_name => \"z\",:statistic => 4.299591432506893,:p_value => 1.7111327074825766e-5), OrderedCollections.OrderedDict{Symbol,Any}(:method => \"Cohen's Kappa for 2 Raters (Weights: unweighted)\",:subjects => 38,:raters => 2,:irr_name => \"Kappa\",:value => 0.0,:stat_name => \"z\",:statistic => 0.0,:p_value => 1.0), OrderedCollections.OrderedDict{Symbol,Any}(:method => \"Cohen's Kappa for 2 Raters (Weights: unweighted)\",:subjects => 38,:raters => 2,:irr_name => \"Kappa\",:value => 0.9073170731707318,:stat_name => \"z\",:statistic => 5.617256574927965,:p_value => 1.9401322104428687e-8), OrderedCollections.OrderedDict{Symbol,Any}(:method => \"Cohen's Kappa for 2 Raters (Weights: unweighted)\",:subjects => 38,:raters => 2,:irr_name => \"Kappa\",:value => 0.6815642458100557,:stat_name => \"z\",:statistic => 4.225314524184305,:p_value => 2.3860728127322872e-5), OrderedCollections.OrderedDict{Symbol,Any}(:method => \"Cohen's Kappa for 2 Raters (Weights: unweighted)\",:subjects => 38,:raters => 2,:irr_name => \"Kappa\",:value => NaN,:stat_name => \"z\",:statistic => NaN,:p_value => NaN), OrderedCollections.OrderedDict{Symbol,Any}(:method => \"Cohen's Kappa for 2 Raters (Weights: unweighted)\",:subjects => 38,:raters => 2,:irr_name => \"Kappa\",:value => 0.35748792270531377,:stat_name => \"z\",:statistic => 2.292323597301975,:p_value => 0.02188697714122423), OrderedCollections.OrderedDict{Symbol,Any}(:method => \"Cohen's Kappa for 2 Raters (Weights: unweighted)\",:subjects => 3,:raters => 2,:irr_name => \"Kappa\",:value => 0.25,:stat_name => \"z\",:statistic => 1.7320508075688774,:p_value => 0.08326451666355039), OrderedCollections.OrderedDict{Symbol,Any}(:method => \"Cohen's Kappa for 2 Raters (Weights: unweighted)\",:subjects => 78,:raters => 2,:irr_name => \"Kappa\",:value => 0.8293963254593176,:stat_name => \"z\",:statistic => 7.363710154178637,:p_value => 1.7896795156957523e-13), OrderedCollections.OrderedDict{Symbol,Any}(:method => \"Cohen's Kappa for 2 Raters (Weights: unweighted)\",:subjects => 18,:raters => 2,:irr_name => \"Kappa\",:value => 0.10559006211180123,:stat_name => \"z\",:statistic => 5.989646239049975,:p_value => 2.102979568263663e-9), OrderedCollections.OrderedDict{Symbol,Any}(:method => \"Cohen's Kappa for 2 Raters (Weights: unweighted)\",:subjects => 78,:raters => 2,:irr_name => \"Kappa\",:value => 0.7709251101321585,:stat_name => \"z\",:statistic => 6.853731091481754,:p_value => 7.1949113333857895e-12), OrderedCollections.OrderedDict{Symbol,Any}(:method => \"Cohen's Kappa for 2 Raters (Weights: unweighted)\",:subjects => 8,:raters => 2,:irr_name => \"Kappa\",:value => 0.1111111111111111,:stat_name => \"z\",:statistic => 2.8284271247461903,:p_value => 0.004677734981047177), OrderedCollections.OrderedDict{Symbol,Any}(:method => \"Cohen's Kappa for 2 Raters (Weights: unweighted)\",:subjects => 78,:raters => 2,:irr_name => \"Kappa\",:value => 0.7364864864864862,:stat_name => \"z\",:statistic => 6.504472529930726,:p_value => 7.796652212732624e-11), OrderedCollections.OrderedDict{Symbol,Any}(:method => \"Cohen's Kappa for 2 Raters (Weights: unweighted)\",:subjects => 3,:raters => 2,:irr_name => \"Kappa\",:value => 0.25,:stat_name => \"z\",:statistic => 1.7320508075688774,:p_value => 0.08326451666355039), OrderedCollections.OrderedDict{Symbol,Any}(:method => \"Cohen's Kappa for 2 Raters (Weights: unweighted)\",:subjects => 3,:raters => 2,:irr_name => \"Kappa\",:value => NaN,:stat_name => \"z\",:statistic => NaN,:p_value => NaN), OrderedCollections.OrderedDict{Symbol,Any}(:method => \"Cohen's Kappa for 2 Raters (Weights: unweighted)\",:subjects => 78,:raters => 2,:irr_name => \"Kappa\",:value => 0.8885714285714285,:stat_name => \"z\",:statistic => 7.847650369794169,:p_value => 4.218847493575595e-15), OrderedCollections.OrderedDict{Symbol,Any}(:method => \"Cohen's Kappa for 2 Raters (Weights: unweighted)\",:subjects => 26,:raters => 2,:irr_name => \"Kappa\",:value => 0.2238805970149254,:stat_name => \"z\",:statistic => 12.440333788202983,:p_value => 0.0), OrderedCollections.OrderedDict{Symbol,Any}(:method => \"Cohen's Kappa for 2 Raters (Weights: unweighted)\",:subjects => 26,:raters => 2,:irr_name => \"Kappa\",:value => 0.27554179566563475,:stat_name => \"z\",:statistic => 1.9759958688981976,:p_value => 0.048155245088435494), OrderedCollections.OrderedDict{Symbol,Any}(:method => \"Cohen's Kappa for 2 Raters (Weights: unweighted)\",:subjects => 26,:raters => 2,:irr_name => \"Kappa\",:value => 0.9064748201438849,:stat_name => \"z\",:statistic => 4.642481187786052,:p_value => 3.442499909578345e-6), OrderedCollections.OrderedDict{Symbol,Any}(:method => \"Cohen's Kappa for 2 Raters (Weights: unweighted)\",:subjects => 26,:raters => 2,:irr_name => \"Kappa\",:value => 0.7796610169491528,:stat_name => \"z\",:statistic => 4.075673086879152,:p_value => 4.5881439388884004e-5), OrderedCollections.OrderedDict{Symbol,Any}(:method => \"Cohen's Kappa for 2 Raters (Weights: unweighted)\",:subjects => 26,:raters => 2,:irr_name => \"Kappa\",:value => 1.0,:stat_name => \"z\",:statistic => 5.099019513592799,:p_value => 3.4141735771875403e-7), OrderedCollections.OrderedDict{Symbol,Any}(:method => \"Cohen's Kappa for 2 Raters (Weights: unweighted)\",:subjects => 26,:raters => 2,:irr_name => \"Kappa\",:value => 0.5323741007194245,:stat_name => \"z\",:statistic => 2.7265365706045066,:p_value => 0.006400285976047915), OrderedCollections.OrderedDict{Symbol,Any}(:method => \"Cohen's Kappa for 2 Raters (Weights: unweighted)\",:subjects => 26,:raters => 2,:irr_name => \"Kappa\",:value => 1.0,:stat_name => \"z\",:statistic => 5.099019513592799,:p_value => 3.4141735771875403e-7), OrderedCollections.OrderedDict{Symbol,Any}(:method => \"Cohen's Kappa for 2 Raters (Weights: unweighted)\",:subjects => 26,:raters => 2,:irr_name => \"Kappa\",:value => 1.0,:stat_name => \"z\",:statistic => 5.0990195135927845,:p_value => 3.4141735771875403e-7), OrderedCollections.OrderedDict{Symbol,Any}(:method => \"Cohen's Kappa for 2 Raters (Weights: unweighted)\",:subjects => 26,:raters => 2,:irr_name => \"Kappa\",:value => NaN,:stat_name => \"z\",:statistic => NaN,:p_value => NaN), OrderedCollections.OrderedDict{Symbol,Any}(:method => \"Cohen's Kappa for 2 Raters (Weights: unweighted)\",:subjects => 78,:raters => 2,:irr_name => \"Kappa\",:value => 0.8433734939759036,:stat_name => \"z\",:statistic => 7.541551564499094,:p_value => 4.6407322429331543e-14), OrderedCollections.OrderedDict{Symbol,Any}(:method => \"Cohen's Kappa for 2 Raters (Weights: unweighted)\",:subjects => 6,:raters => 2,:irr_name => \"Kappa\",:value => 0.0,:stat_name => \"z\",:statistic => NaN,:p_value => NaN), OrderedCollections.OrderedDict{Symbol,Any}(:method => \"Cohen's Kappa for 2 Raters (Weights: unweighted)\",:subjects => 6,:raters => 2,:irr_name => \"Kappa\",:value => 0.39999999999999997,:stat_name => \"z\",:statistic => 1.9595917942265415,:p_value => 0.05004352124870515), OrderedCollections.OrderedDict{Symbol,Any}(:method => \"Cohen's Kappa for 2 Raters (Weights: unweighted)\",:subjects => 6,:raters => 2,:irr_name => \"Kappa\",:value => NaN,:stat_name => \"z\",:statistic => NaN,:p_value => NaN), OrderedCollections.OrderedDict{Symbol,Any}(:method => \"Cohen's Kappa for 2 Raters (Weights: unweighted)\",:subjects => 6,:raters => 2,:irr_name => \"Kappa\",:value => 0.0,:stat_name => \"z\",:statistic => 0.0,:p_value => 1.0), OrderedCollections.OrderedDict{Symbol,Any}(:method => \"Cohen's Kappa for 2 Raters (Weights: unweighted)\",:subjects => 6,:raters => 2,:irr_name => \"Kappa\",:value => NaN,:stat_name => \"z\",:statistic => NaN,:p_value => NaN), OrderedCollections.OrderedDict{Symbol,Any}(:method => \"Cohen's Kappa for 2 Raters (Weights: unweighted)\",:subjects => 6,:raters => 2,:irr_name => \"Kappa\",:value => NaN,:stat_name => \"z\",:statistic => NaN,:p_value => NaN), OrderedCollections.OrderedDict{Symbol,Any}(:method => \"Cohen's Kappa for 2 Raters (Weights: unweighted)\",:subjects => 6,:raters => 2,:irr_name => \"Kappa\",:value => 0.0,:stat_name => \"z\",:statistic => NaN,:p_value => NaN), OrderedCollections.OrderedDict{Symbol,Any}(:method => \"Cohen's Kappa for 2 Raters (Weights: unweighted)\",:subjects => 6,:raters => 2,:irr_name => \"Kappa\",:value => 1.0,:stat_name => \"z\",:statistic => 2.449489742783177,:p_value => 0.014305878435429742), OrderedCollections.OrderedDict{Symbol,Any}(:method => \"Cohen's Kappa for 2 Raters (Weights: unweighted)\",:subjects => 6,:raters => 2,:irr_name => \"Kappa\",:value => NaN,:stat_name => \"z\",:statistic => NaN,:p_value => NaN), OrderedCollections.OrderedDict{Symbol,Any}(:method => \"Cohen's Kappa for 2 Raters (Weights: unweighted)\",:subjects => 6,:raters => 2,:irr_name => \"Kappa\",:value => 0.33333333333333326,:stat_name => \"z\",:statistic => 1.0954451150103317,:p_value => 0.2733216782922985), OrderedCollections.OrderedDict{Symbol,Any}(:method => \"Cohen's Kappa for 2 Raters (Weights: unweighted)\",:subjects => 20,:raters => 2,:irr_name => \"Kappa\",:value => 0.5294117647058825,:stat_name => \"z\",:statistic => 2.43599382882345,:p_value => 0.014850937887364912), OrderedCollections.OrderedDict{Symbol,Any}(:method => \"Cohen's Kappa for 2 Raters (Weights: unweighted)\",:subjects => 8,:raters => 2,:irr_name => \"Kappa\",:value => 0.7142857142857143,:stat_name => \"z\",:statistic => 2.1081851067789197,:p_value => 0.035014981019662494), OrderedCollections.OrderedDict{Symbol,Any}(:method => \"Cohen's Kappa for 2 Raters (Weights: unweighted)\",:subjects => 3,:raters => 2,:irr_name => \"Kappa\",:value => NaN,:stat_name => \"z\",:statistic => NaN,:p_value => NaN), OrderedCollections.OrderedDict{Symbol,Any}(:method => \"Cohen's Kappa for 2 Raters (Weights: unweighted)\",:subjects => 26,:raters => 2,:irr_name => \"Kappa\",:value => 0.8045112781954888,:stat_name => \"z\",:statistic => 4.102218706424272,:p_value => 4.092071943206932e-5), OrderedCollections.OrderedDict{Symbol,Any}(:method => \"Cohen's Kappa for 2 Raters (Weights: unweighted)\",:subjects => 6,:raters => 2,:irr_name => \"Kappa\",:value => 1.0,:stat_name => \"z\",:statistic => 2.4494897427831783,:p_value => 0.014305878435429742), OrderedCollections.OrderedDict{Symbol,Any}(:method => \"Cohen's Kappa for 2 Raters (Weights: unweighted)\",:subjects => 78,:raters => 2,:irr_name => \"Kappa\",:value => 1.0,:stat_name => \"z\",:statistic => 8.831760866327961,:p_value => 0.0), OrderedCollections.OrderedDict{Symbol,Any}(:method => \"Cohen's Kappa for 2 Raters (Weights: unweighted)\",:subjects => 78,:raters => 2,:irr_name => \"Kappa\",:value => 0.8852941176470587,:stat_name => \"z\",:statistic => 7.818705943425528,:p_value => 5.329070518200751e-15), OrderedCollections.OrderedDict{Symbol,Any}(:method => \"Cohen's Kappa for 2 Raters (Weights: unweighted)\",:subjects => 78,:raters => 2,:irr_name => \"Kappa\",:value => NaN,:stat_name => \"z\",:statistic => NaN,:p_value => NaN), OrderedCollections.OrderedDict{Symbol,Any}(:method => \"Cohen's Kappa for 2 Raters (Weights: unweighted)\",:subjects => 78,:raters => 2,:irr_name => \"Kappa\",:value => 0.8555555555555555,:stat_name => \"z\",:statistic => 7.556062074524932,:p_value => 4.1522341120980855e-14), OrderedCollections.OrderedDict{Symbol,Any}(:method => \"Cohen's Kappa for 2 Raters (Weights: unweighted)\",:subjects => 78,:raters => 2,:irr_name => \"Kappa\",:value => 1.0,:stat_name => \"z\",:statistic => 8.831760866327837,:p_value => 0.0), OrderedCollections.OrderedDict{Symbol,Any}(:method => \"Cohen's Kappa for 2 Raters (Weights: unweighted)\",:subjects => 78,:raters => 2,:irr_name => \"Kappa\",:value => 0.7494646680942186,:stat_name => \"z\",:statistic => 6.8371467252403875,:p_value => 8.078648860987414e-12), OrderedCollections.OrderedDict{Symbol,Any}(:method => \"Cohen's Kappa for 2 Raters (Weights: unweighted)\",:subjects => 16,:raters => 2,:irr_name => \"Kappa\",:value => 0.17786561264822134,:stat_name => \"z\",:statistic => 6.897614987154126,:p_value => 5.288214310894546e-12), OrderedCollections.OrderedDict{Symbol,Any}(:method => \"Cohen's Kappa for 2 Raters (Weights: unweighted)\",:subjects => 8,:raters => 2,:irr_name => \"Kappa\",:value => 0.0,:stat_name => \"z\",:statistic => NaN,:p_value => NaN), OrderedCollections.OrderedDict{Symbol,Any}(:method => \"Cohen's Kappa for 2 Raters (Weights: unweighted)\",:subjects => 5,:raters => 2,:irr_name => \"Kappa\",:value => 0.16666666666666669,:stat_name => \"z\",:statistic => 2.23606797749979,:p_value => 0.0253473186774682)]"
     ]
    },
    {
     "name": "stdout",
     "output_type": "stream",
     "text": [
      "\n"
     ]
    },
    {
     "data": {
      "text/plain": [
       "58-element Array{Any,1}:\n",
       " OrderedCollections.OrderedDict{Symbol,Any}(:method => \"Cohen's Kappa for 2 Raters (Weights: unweighted)\",:subjects => 78,:raters => 2,:irr_name => \"Kappa\",:value => 0.6172520661157025,:stat_name => \"z\",:statistic => 7.594842718636398,:p_value => 3.086420008457935e-14)\n",
       " OrderedCollections.OrderedDict{Symbol,Any}(:method => \"Cohen's Kappa for 2 Raters (Weights: unweighted)\",:subjects => 78,:raters => 2,:irr_name => \"Kappa\",:value => 0.7817164179104477,:stat_name => \"z\",:statistic => 10.866314095352433,:p_value => 0.0)\n",
       " OrderedCollections.OrderedDict{Symbol,Any}(:method => \"Cohen's Kappa for 2 Raters (Weights: unweighted)\",:subjects => 78,:raters => 2,:irr_name => \"Kappa\",:value => 0.6608695652173929,:stat_name => \"z\",:statistic => 6.204313539264316,:p_value => 5.493616672680446e-10)\n",
       " OrderedCollections.OrderedDict{Symbol,Any}(:method => \"Cohen's Kappa for 2 Raters (Weights: unweighted)\",:subjects => 78,:raters => 2,:irr_name => \"Kappa\",:value => 0.9486166007905138,:stat_name => \"z\",:statistic => 8.389036884507309,:p_value => 0.0)\n",
       " OrderedCollections.OrderedDict{Symbol,Any}(:method => \"Cohen's Kappa for 2 Raters (Weights: unweighted)\",:subjects => 37,:raters => 2,:irr_name => \"Kappa\",:value => 0.7194312796208531,:stat_name => \"z\",:statistic => 9.287395979431762,:p_value => 0.0)\n",
       " OrderedCollections.OrderedDict{Symbol,Any}(:method => \"Cohen's Kappa for 2 Raters (Weights: unweighted)\",:subjects => 78,:raters => 2,:irr_name => \"Kappa\",:value => 0.8205128205128205,:stat_name => \"z\",:statistic => 7.306871719932601,:p_value => 2.7333690866271354e-13)\n",
       " OrderedCollections.OrderedDict{Symbol,Any}(:method => \"Cohen's Kappa for 2 Raters (Weights: unweighted)\",:subjects => 38,:raters => 2,:irr_name => \"Kappa\",:value => NaN,:stat_name => \"z\",:statistic => NaN,:p_value => NaN)\n",
       " OrderedCollections.OrderedDict{Symbol,Any}(:method => \"Cohen's Kappa for 2 Raters (Weights: unweighted)\",:subjects => 38,:raters => 2,:irr_name => \"Kappa\",:value => 1.0,:stat_name => \"z\",:statistic => 6.164414002968954,:p_value => 7.074463237444206e-10)\n",
       " OrderedCollections.OrderedDict{Symbol,Any}(:method => \"Cohen's Kappa for 2 Raters (Weights: unweighted)\",:subjects => 38,:raters => 2,:irr_name => \"Kappa\",:value => 1.0,:stat_name => \"z\",:statistic => 6.164414002968954,:p_value => 7.074463237444206e-10)\n",
       " OrderedCollections.OrderedDict{Symbol,Any}(:method => \"Cohen's Kappa for 2 Raters (Weights: unweighted)\",:subjects => 38,:raters => 2,:irr_name => \"Kappa\",:value => 0.6545454545454547,:stat_name => \"z\",:statistic => 4.299591432506893,:p_value => 1.7111327074825766e-5)\n",
       " ⋮\n",
       " OrderedCollections.OrderedDict{Symbol,Any}(:method => \"Cohen's Kappa for 2 Raters (Weights: unweighted)\",:subjects => 78,:raters => 2,:irr_name => \"Kappa\",:value => 1.0,:stat_name => \"z\",:statistic => 8.831760866327961,:p_value => 0.0)\n",
       " OrderedCollections.OrderedDict{Symbol,Any}(:method => \"Cohen's Kappa for 2 Raters (Weights: unweighted)\",:subjects => 78,:raters => 2,:irr_name => \"Kappa\",:value => 0.8852941176470587,:stat_name => \"z\",:statistic => 7.818705943425528,:p_value => 5.329070518200751e-15)\n",
       " OrderedCollections.OrderedDict{Symbol,Any}(:method => \"Cohen's Kappa for 2 Raters (Weights: unweighted)\",:subjects => 78,:raters => 2,:irr_name => \"Kappa\",:value => NaN,:stat_name => \"z\",:statistic => NaN,:p_value => NaN)\n",
       " OrderedCollections.OrderedDict{Symbol,Any}(:method => \"Cohen's Kappa for 2 Raters (Weights: unweighted)\",:subjects => 78,:raters => 2,:irr_name => \"Kappa\",:value => 0.8555555555555555,:stat_name => \"z\",:statistic => 7.556062074524932,:p_value => 4.1522341120980855e-14)\n",
       " OrderedCollections.OrderedDict{Symbol,Any}(:method => \"Cohen's Kappa for 2 Raters (Weights: unweighted)\",:subjects => 78,:raters => 2,:irr_name => \"Kappa\",:value => 1.0,:stat_name => \"z\",:statistic => 8.831760866327837,:p_value => 0.0)\n",
       " OrderedCollections.OrderedDict{Symbol,Any}(:method => \"Cohen's Kappa for 2 Raters (Weights: unweighted)\",:subjects => 78,:raters => 2,:irr_name => \"Kappa\",:value => 0.7494646680942186,:stat_name => \"z\",:statistic => 6.8371467252403875,:p_value => 8.078648860987414e-12)\n",
       " OrderedCollections.OrderedDict{Symbol,Any}(:method => \"Cohen's Kappa for 2 Raters (Weights: unweighted)\",:subjects => 16,:raters => 2,:irr_name => \"Kappa\",:value => 0.17786561264822134,:stat_name => \"z\",:statistic => 6.897614987154126,:p_value => 5.288214310894546e-12)\n",
       " OrderedCollections.OrderedDict{Symbol,Any}(:method => \"Cohen's Kappa for 2 Raters (Weights: unweighted)\",:subjects => 8,:raters => 2,:irr_name => \"Kappa\",:value => 0.0,:stat_name => \"z\",:statistic => NaN,:p_value => NaN)\n",
       " OrderedCollections.OrderedDict{Symbol,Any}(:method => \"Cohen's Kappa for 2 Raters (Weights: unweighted)\",:subjects => 5,:raters => 2,:irr_name => \"Kappa\",:value => 0.16666666666666669,:stat_name => \"z\",:statistic => 2.23606797749979,:p_value => 0.0253473186774682)"
      ]
     },
     "metadata": {},
     "output_type": "display_data"
    }
   ],
   "source": [
    "@show cohenkappa_outputs"
   ]
  },
  {
   "cell_type": "code",
   "execution_count": 14,
   "metadata": {},
   "outputs": [],
   "source": [
    "#Compile outputs to simple dataframe:\n",
    "\n",
    "code_numbers = replace.(String.(A_cols), \"A.\" => \"\") \n",
    "\n",
    "irr_output_df = DataFrame(CodingPoint=code_numbers,\n",
    "        Count = count_outputs,\n",
    "        AgreementCount = agreementCount_outputs,\n",
    "        PercentAgreeement=percentagree_outputs, \n",
    "        CohenKappa=[output[:value] for output in cohenkappa_outputs] , \n",
    "        KrippAlpha=[output[:value] for output in krippalpha_outputs])\n",
    "\n",
    "XLSX.writetable(dirpath*\"output_table.xlsx\", irr_output_df,  anchor_cell=\"B2\")\n"
   ]
  },
  {
   "cell_type": "code",
   "execution_count": null,
   "metadata": {},
   "outputs": [],
   "source": []
  }
 ],
 "metadata": {
  "kernelspec": {
   "display_name": "Julia 1.5.3",
   "language": "julia",
   "name": "julia-1.5"
  },
  "language_info": {
   "file_extension": ".jl",
   "mimetype": "application/julia",
   "name": "julia",
   "version": "1.5.3"
  },
  "orig_nbformat": 4,
  "vscode": {
   "interpreter": {
    "hash": "ac5fa55e59d7907f2234b868d4eba807892b77462284fb15ceb9b28ad8dae652"
   }
  }
 },
 "nbformat": 4,
 "nbformat_minor": 2
}
