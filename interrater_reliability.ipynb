{
 "cells": [
  {
   "cell_type": "code",
   "execution_count": null,
   "metadata": {},
   "outputs": [],
   "source": [
    "###############################################################################\n",
    "# Part of the Quantum Science & Technology in Dutch Newspapers (QSTDN) project\n",
    "# By Thomas Rothe\n",
    "################################################################################\n",
    "# This notebook was used to calculate the interrater reliability of from the Excel coding sheets ending in \"_Parralell\" (see data) \n",
    "# Both Cohen's kappa and Percentage agreement were calculated\n",
    "# Note: Since the codebook changed after the pilot phase, the following works only on the final/actual dataset."
   ]
  },
  {
   "cell_type": "code",
   "execution_count": 10,
   "metadata": {},
   "outputs": [],
   "source": [
    "using FileIO\n",
    "using CSV\n",
    "using XLSX\n",
    "using DataFrames\n",
    "using KnetMetrics\n",
    "using RCall"
   ]
  },
  {
   "cell_type": "code",
   "execution_count": 11,
   "metadata": {},
   "outputs": [
    {
     "name": "stdout",
     "output_type": "stream",
     "text": [
      "header = [Symbol(\"Article #\"), Symbol(\"1\"), Symbol(\"2\"), Symbol(\"3\"), Symbol(\"4\"), Symbol(\"5\"), Symbol(\"6\"), Symbol(\"7\"), Symbol(\"8\"), Symbol(\"9\"), Symbol(\"10\"), Symbol(\"A.11.A\"), Symbol(\"A.12\"), Symbol(\"A.13\"), Symbol(\"A.14\"), Symbol(\"A.14-Q\"), Symbol(\"A.15\"), Symbol(\"A.16.A\"), Symbol(\"A.16.B\"), Symbol(\"A.16.C\"), Symbol(\"A.16.D\"), Symbol(\"A.16.E\"), Symbol(\"A.16.F\"), Symbol(\"A.16.G\"), Symbol(\"A.16.H\"), Symbol(\"A.16.I\"), Symbol(\"A.16-Q\"), Symbol(\"A.17\"), Symbol(\"A.17-Q\"), Symbol(\"A.18\"), Symbol(\"A.18-Q\"), Symbol(\"A.19\"), Symbol(\"A.19-Q\"), Symbol(\"A.20\"), Symbol(\"A.21\"), Symbol(\"A.21-Q\"), Symbol(\"A.22\"), Symbol(\"A.23.A\"), Symbol(\"A.23.B\"), Symbol(\"A.23.C\"), Symbol(\"A.23.D\"), Symbol(\"A.23.E\"), Symbol(\"A.23.F\"), Symbol(\"A.23.G\"), Symbol(\"A.24\"), Symbol(\"A.24-Q\"), Symbol(\"A.25\"), Symbol(\"A.26.A\"), Symbol(\"A.26.B\"), Symbol(\"A.26.C\"), Symbol(\"A.26.D\"), Symbol(\"A.26.E\"), Symbol(\"A.26.F\"), Symbol(\"A.26.G\"), Symbol(\"A.27\"), Symbol(\"A.28.A\"), Symbol(\"A.28.B\"), Symbol(\"A.28.C\"), Symbol(\"A.28.D\"), Symbol(\"A.28.E\"), Symbol(\"A.29.A\"), Symbol(\"A.29.B\"), Symbol(\"A.29.C\"), Symbol(\"A.30.A\"), Symbol(\"A.30.B\"), Symbol(\"A.30.C\"), Symbol(\"A.30-Q-A\"), Symbol(\"A.30-Q-B\"), Symbol(\"A.30-Q-C\"), Symbol(\"B.11.A\"), Symbol(\"B.12\"), Symbol(\"B.13\"), Symbol(\"B.14\"), Symbol(\"B.14-Q\"), Symbol(\"B.15\"), Symbol(\"B.16.A\"), Symbol(\"B.16.B\"), Symbol(\"B.16.C\"), Symbol(\"B.16.D\"), Symbol(\"B.16.E\"), Symbol(\"B.16.F\"), Symbol(\"B.16.G\"), Symbol(\"B.16.H\"), Symbol(\"B.16.I\"), Symbol(\"B.16-Q\"), Symbol(\"B.17\"), Symbol(\"B.17-Q\"), Symbol(\"B.18\"), Symbol(\"B.18-Q\"), Symbol(\"B.19\"), Symbol(\"B.19-Q\"), Symbol(\"B.20\"), Symbol(\"B.21\"), Symbol(\"B.21-Q\"), Symbol(\"B.22\"), Symbol(\"B.23.A\"), Symbol(\"B.23.B\"), Symbol(\"B.23.C\"), Symbol(\"B.23.D\"), Symbol(\"B.23.E\"), Symbol(\"B.23.F\"), Symbol(\"B.23.G\"), Symbol(\"B.24\"), Symbol(\"B.24-Q\"), Symbol(\"B.25\"), Symbol(\"B.26.A\"), Symbol(\"B.26.B\"), Symbol(\"B.26.C\"), Symbol(\"B.26.D\"), Symbol(\"B.26.E\"), Symbol(\"B.26.F\"), Symbol(\"B.26.G\"), Symbol(\"B.27\"), Symbol(\"B.28.A\"), Symbol(\"B.28.B\"), Symbol(\"B.28.C\"), Symbol(\"B.28.D\"), Symbol(\"B.28.E\"), Symbol(\"B.29.A\"), Symbol(\"B.29.B\"), Symbol(\"B.29.C\"), Symbol(\"B.30.A\"), Symbol(\"B.30.B\"), Symbol(\"B.30.C\"), Symbol(\"B.30-Q-A\"), Symbol(\"B.30-Q-B\"), Symbol(\"B.30-Q-C\"), Symbol(\"ICA.11.A\"), Symbol(\"ICA.12\"), Symbol(\"ICA.13\"), Symbol(\"ICA.14\"), Symbol(\"ICA.14-Q\"), Symbol(\"ICA.15\"), Symbol(\"ICA.16.A\"), Symbol(\"ICA.16.B\"), Symbol(\"ICA.16.C\"), Symbol(\"ICA.16.D\"), Symbol(\"ICA.16.E\"), Symbol(\"ICA.16.F\"), Symbol(\"ICA.16.G\"), Symbol(\"ICA.16.H\"), Symbol(\"ICA.16.I\"), Symbol(\"ICA.16-Q\"), Symbol(\"ICA.17\"), Symbol(\"ICA.17-Q\"), Symbol(\"ICA.18\"), Symbol(\"ICA.18-Q\"), Symbol(\"ICA.19\"), Symbol(\"ICA.19-Q\"), Symbol(\"ICA.20\"), Symbol(\"ICA.21\"), Symbol(\"ICA.21-Q\"), Symbol(\"ICA.22\"), Symbol(\"ICA.23.A\"), Symbol(\"ICA.23.B\"), Symbol(\"ICA.23.C\"), Symbol(\"ICA.23.D\"), Symbol(\"ICA.23.E\"), Symbol(\"ICA.23.F\"), Symbol(\"ICA.23.G\"), Symbol(\"ICA.24\"), Symbol(\"ICA.24-Q\"), Symbol(\"ICA.25\"), Symbol(\"ICA.26.A\"), Symbol(\"ICA.26.B\"), Symbol(\"ICA.26.C\"), Symbol(\"ICA.26.D\"), Symbol(\"ICA.26.E\"), Symbol(\"ICA.26.F\"), Symbol(\"ICA.26.G\"), Symbol(\"ICA.27\"), Symbol(\"ICA.28.A\"), Symbol(\"ICA.28.B\"), Symbol(\"ICA.28.C\"), Symbol(\"ICA.28.D\"), Symbol(\"ICA.28.E\"), Symbol(\"ICA.29.A\"), Symbol(\"ICA.29.B\"), Symbol(\"ICA.29.C\"), Symbol(\"ICA.30.A\"), Symbol(\"ICA.30.B\"), Symbol(\"ICA.30.C\"), Symbol(\"ICA.30-Q-A\"), Symbol(\"ICA.30-Q-B\"), Symbol(\"ICA.30-Q-C\")]\n"
     ]
    },
    {
     "data": {
      "text/plain": [
       "185-element Array{Symbol,1}:\n",
       " Symbol(\"Article #\")\n",
       " Symbol(\"1\")\n",
       " Symbol(\"2\")\n",
       " Symbol(\"3\")\n",
       " Symbol(\"4\")\n",
       " Symbol(\"5\")\n",
       " Symbol(\"6\")\n",
       " Symbol(\"7\")\n",
       " Symbol(\"8\")\n",
       " Symbol(\"9\")\n",
       " ⋮\n",
       " Symbol(\"ICA.29.A\")\n",
       " Symbol(\"ICA.29.B\")\n",
       " Symbol(\"ICA.29.C\")\n",
       " Symbol(\"ICA.30.A\")\n",
       " Symbol(\"ICA.30.B\")\n",
       " Symbol(\"ICA.30.C\")\n",
       " Symbol(\"ICA.30-Q-A\")\n",
       " Symbol(\"ICA.30-Q-B\")\n",
       " Symbol(\"ICA.30-Q-C\")"
      ]
     },
     "metadata": {},
     "output_type": "display_data"
    }
   ],
   "source": [
    "#Import data as excel:\n",
    "dirpath = \"/mnt/s/OneDrive - Universiteit Leiden/\"\n",
    "filename = \"Coding_Sheet_InterCoder_medium.xlsx\" #\"Pilot_Coding_Sheet_InterCoder.xlsx\"\n",
    "sheetname = \"IC_Parallel\" # \"Pilot_IC_Parallel\"\n",
    "dataloc_on_sheet = \"A7:GC85\" #\"A7:GC43\" #Must include header row!!\n",
    "\n",
    "#df = DataFrame(XLSX.readtable(dirpath*filename, sheetname))\n",
    "xlf_mat = XLSX.readdata(dirpath*filename, sheetname*\"!\"*dataloc_on_sheet)\n",
    "\n",
    "colnames = xlf_mat[1,:]\n",
    "data = xlf_mat[2:end,:]\n",
    "header = Symbol.(colnames[:])\n",
    "\n",
    "data[.|(data .== nothing, string.(data) .== \"-2\", data .== \"~\")] .= missing\n",
    "\n",
    "#data[data .== \"~\"] .= missing\n",
    "#@show data\n",
    "\n",
    "df = DataFrame(data, header)\n",
    "@show header"
   ]
  },
  {
   "cell_type": "code",
   "execution_count": null,
   "metadata": {},
   "outputs": [],
   "source": [
    "#Make sure to set-up your R environment first (if not already):\n",
    "#package1 = \"irr\"\n",
    "#@rput package1\n",
    "#R\"install.packages(package1)\"\n",
    "#package2 = \"psych\"\n",
    "#@rput package2\n",
    "#R\"install.packages(package2)\"\n",
    "\n",
    "R\"library(irr)\"\n",
    "R\"library(psych)\"\n",
    "\n",
    "dinfo1 = nothing\n",
    "dinfo2 = nothing\n",
    "dinfo3 = nothing\n",
    "dinfo4 = []\n",
    "\n",
    "krippalpha_outputs = []\n",
    "cohenkappa_outputs = []\n",
    "percentagree_outputs = []\n",
    "count_outputs = []\n",
    "agreementCount_outputs = []\n",
    "\n",
    "A_cols = filter(cn -> startswith(String(cn), \"A.\"), header)\n",
    "B_cols = filter(cn -> startswith(String(cn), \"B.\"), header)\n",
    "var_types = fill(\"nominal\", 58) #Column 11 to 40 only, including subcolumns = 58\n",
    "\n",
    "for (col_a, col_b, c_var_type) in zip(A_cols, B_cols, var_types)\n",
    "    c_var_data_df = df[:, [col_a, col_b]]\n",
    "    \n",
    "    c_var_data = Matrix(c_var_data_df)\n",
    "    #kripp_alpha(c_var_data, method = c_var_type)\n",
    "    @rput c_var_data\n",
    "    @rput c_var_type\n",
    "    #dinfo1 = c_var_data\n",
    "    R\"c_var_data <- t(matrix(unlist(c_var_data), byrow=FALSE, ncol=2))\"\n",
    "    #R\"dinfo2 <- c_var_data\"\n",
    "    #@rget dinfo2\n",
    "\n",
    "    R\"krippalpha_output <- kripp.alpha(c_var_data, method = c_var_type)\"\n",
    "    @rget krippalpha_output\n",
    "    push!(krippalpha_outputs, krippalpha_output)\n",
    "    \n",
    "    c_var_data = c_var_data_df[completecases(c_var_data_df), :] #Remove missin balues\n",
    "\n",
    "    percent_agree = 100 * count(c_var_data[:, 1] .== c_var_data[:, 2]) / size(c_var_data)[1]\n",
    "    push!(count_outputs,  size(c_var_data)[1])\n",
    "    push!(agreementCount_outputs, count(c_var_data[:, 1] .== c_var_data[:, 2]))\n",
    "    push!(percentagree_outputs, percent_agree)\n",
    "        \n",
    "    if prod(size(c_var_data)) == 0 #If all cases missing\n",
    "        cohenkappa_output = Dict(:value=>missing)\n",
    "        push!(cohenkappa_outputs, cohenkappa_output)\n",
    "    else\n",
    "        #push!(dinfo4, size(c_var_data))\n",
    "        @rput c_var_data\n",
    "        R\"c_var_data <- t(matrix(unlist(c_var_data), byrow=FALSE, ncol=2))\"\n",
    "        weight_mode = \"unweighted\"\n",
    "        @rput weight_mode\n",
    "\n",
    "        R\"cohenkappa_output <- kappa2(t(c_var_data), weight = weight_mode, sort.levels = FALSE)\"\n",
    "        #R\"cohenkappa_output <- cohen.kappa(as.data.frame(t(c_var_data)))\"\n",
    "        @rget cohenkappa_output\n",
    "        push!(cohenkappa_outputs, cohenkappa_output)\n",
    "        \n",
    "    end\n",
    "    #View confusion matrix\n",
    "    #c = confusion_matrix(c_var_data[:, 1],c_var_data[:, 2], labels=[0,1])\n",
    "    \n",
    "\n",
    "end"
   ]
  },
  {
   "cell_type": "code",
   "execution_count": null,
   "metadata": {},
   "outputs": [],
   "source": [
    "@show cohenkappa_outputs"
   ]
  },
  {
   "cell_type": "code",
   "execution_count": 14,
   "metadata": {},
   "outputs": [],
   "source": [
    "#Compile outputs to simple dataframe:\n",
    "\n",
    "code_numbers = replace.(String.(A_cols), \"A.\" => \"\") \n",
    "\n",
    "irr_output_df = DataFrame(CodingPoint=code_numbers,\n",
    "        Count = count_outputs,\n",
    "        AgreementCount = agreementCount_outputs,\n",
    "        PercentAgreeement=percentagree_outputs, \n",
    "        CohenKappa=[output[:value] for output in cohenkappa_outputs] , \n",
    "        KrippAlpha=[output[:value] for output in krippalpha_outputs])\n",
    "\n",
    "XLSX.writetable(dirpath*\"output_table.xlsx\", irr_output_df,  anchor_cell=\"B2\")\n"
   ]
  },
  {
   "cell_type": "code",
   "execution_count": null,
   "metadata": {},
   "outputs": [],
   "source": []
  }
 ],
 "metadata": {
  "kernelspec": {
   "display_name": "Julia 1.5.3",
   "language": "julia",
   "name": "julia-1.5"
  },
  "language_info": {
   "file_extension": ".jl",
   "mimetype": "application/julia",
   "name": "julia",
   "version": "1.5.3"
  },
  "orig_nbformat": 4,
  "vscode": {
   "interpreter": {
    "hash": "ac5fa55e59d7907f2234b868d4eba807892b77462284fb15ceb9b28ad8dae652"
   }
  }
 },
 "nbformat": 4,
 "nbformat_minor": 2
}
